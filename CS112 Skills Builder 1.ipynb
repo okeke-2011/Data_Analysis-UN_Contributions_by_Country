{
 "cells": [
  {
   "cell_type": "code",
   "execution_count": 1,
   "metadata": {},
   "outputs": [
    {
     "name": "stderr",
     "output_type": "stream",
     "text": [
      "Warning message:\n",
      "\"package 'readr' was built under R version 3.6.3\"Parsed with column specification:\n",
      "cols(\n",
      "  Contribution_ID = col_double(),\n",
      "  ISOCode3 = col_character(),\n",
      "  M49_Code = col_double(),\n",
      "  Contributing_Country = col_character(),\n",
      "  Mission_Acronym = col_character(),\n",
      "  Personnel_Type = col_character(),\n",
      "  Female_Personnel = col_double(),\n",
      "  Male_Personnel = col_double(),\n",
      "  Last_Reporting_Date = col_character()\n",
      ")\n"
     ]
    }
   ],
   "source": [
    "# Step 1\n",
    "library(readr) # Import readr (package for importing flat files)\n",
    "un_df = read_csv(\"odp_contributionsbygender.csv\", na = c(\"\")) # import the csv file for the assignment and set \n",
    "                                                              # all blanks to NA"
   ]
  },
  {
   "cell_type": "code",
   "execution_count": 2,
   "metadata": {},
   "outputs": [
    {
     "data": {
      "text/html": [
       "<dl class=dl-horizontal>\n",
       "\t<dt>Contribution_ID</dt>\n",
       "\t\t<dd>0</dd>\n",
       "\t<dt>ISOCode3</dt>\n",
       "\t\t<dd>0</dd>\n",
       "\t<dt>M49_Code</dt>\n",
       "\t\t<dd>5</dd>\n",
       "\t<dt>Contributing_Country</dt>\n",
       "\t\t<dd>5</dd>\n",
       "\t<dt>Mission_Acronym</dt>\n",
       "\t\t<dd>0</dd>\n",
       "\t<dt>Personnel_Type</dt>\n",
       "\t\t<dd>0</dd>\n",
       "\t<dt>Female_Personnel</dt>\n",
       "\t\t<dd>0</dd>\n",
       "\t<dt>Male_Personnel</dt>\n",
       "\t\t<dd>0</dd>\n",
       "\t<dt>Last_Reporting_Date</dt>\n",
       "\t\t<dd>0</dd>\n",
       "</dl>\n"
      ],
      "text/latex": [
       "\\begin{description*}\n",
       "\\item[Contribution\\textbackslash{}\\_ID] 0\n",
       "\\item[ISOCode3] 0\n",
       "\\item[M49\\textbackslash{}\\_Code] 5\n",
       "\\item[Contributing\\textbackslash{}\\_Country] 5\n",
       "\\item[Mission\\textbackslash{}\\_Acronym] 0\n",
       "\\item[Personnel\\textbackslash{}\\_Type] 0\n",
       "\\item[Female\\textbackslash{}\\_Personnel] 0\n",
       "\\item[Male\\textbackslash{}\\_Personnel] 0\n",
       "\\item[Last\\textbackslash{}\\_Reporting\\textbackslash{}\\_Date] 0\n",
       "\\end{description*}\n"
      ],
      "text/markdown": [
       "Contribution_ID\n",
       ":   0ISOCode3\n",
       ":   0M49_Code\n",
       ":   5Contributing_Country\n",
       ":   5Mission_Acronym\n",
       ":   0Personnel_Type\n",
       ":   0Female_Personnel\n",
       ":   0Male_Personnel\n",
       ":   0Last_Reporting_Date\n",
       ":   0\n",
       "\n"
      ],
      "text/plain": [
       "     Contribution_ID             ISOCode3             M49_Code \n",
       "                   0                    0                    5 \n",
       "Contributing_Country      Mission_Acronym       Personnel_Type \n",
       "                   5                    0                    0 \n",
       "    Female_Personnel       Male_Personnel  Last_Reporting_Date \n",
       "                   0                    0                    0 "
      ]
     },
     "metadata": {},
     "output_type": "display_data"
    },
    {
     "data": {
      "text/html": [
       "<dl class=dl-horizontal>\n",
       "\t<dt>Contribution_ID</dt>\n",
       "\t\t<dd>0</dd>\n",
       "\t<dt>ISOCode3</dt>\n",
       "\t\t<dd>0</dd>\n",
       "\t<dt>M49_Code</dt>\n",
       "\t\t<dd>0</dd>\n",
       "\t<dt>Contributing_Country</dt>\n",
       "\t\t<dd>0</dd>\n",
       "\t<dt>Mission_Acronym</dt>\n",
       "\t\t<dd>0</dd>\n",
       "\t<dt>Personnel_Type</dt>\n",
       "\t\t<dd>0</dd>\n",
       "\t<dt>Female_Personnel</dt>\n",
       "\t\t<dd>0</dd>\n",
       "\t<dt>Male_Personnel</dt>\n",
       "\t\t<dd>0</dd>\n",
       "\t<dt>Last_Reporting_Date</dt>\n",
       "\t\t<dd>0</dd>\n",
       "</dl>\n"
      ],
      "text/latex": [
       "\\begin{description*}\n",
       "\\item[Contribution\\textbackslash{}\\_ID] 0\n",
       "\\item[ISOCode3] 0\n",
       "\\item[M49\\textbackslash{}\\_Code] 0\n",
       "\\item[Contributing\\textbackslash{}\\_Country] 0\n",
       "\\item[Mission\\textbackslash{}\\_Acronym] 0\n",
       "\\item[Personnel\\textbackslash{}\\_Type] 0\n",
       "\\item[Female\\textbackslash{}\\_Personnel] 0\n",
       "\\item[Male\\textbackslash{}\\_Personnel] 0\n",
       "\\item[Last\\textbackslash{}\\_Reporting\\textbackslash{}\\_Date] 0\n",
       "\\end{description*}\n"
      ],
      "text/markdown": [
       "Contribution_ID\n",
       ":   0ISOCode3\n",
       ":   0M49_Code\n",
       ":   0Contributing_Country\n",
       ":   0Mission_Acronym\n",
       ":   0Personnel_Type\n",
       ":   0Female_Personnel\n",
       ":   0Male_Personnel\n",
       ":   0Last_Reporting_Date\n",
       ":   0\n",
       "\n"
      ],
      "text/plain": [
       "     Contribution_ID             ISOCode3             M49_Code \n",
       "                   0                    0                    0 \n",
       "Contributing_Country      Mission_Acronym       Personnel_Type \n",
       "                   0                    0                    0 \n",
       "    Female_Personnel       Male_Personnel  Last_Reporting_Date \n",
       "                   0                    0                    0 "
      ]
     },
     "metadata": {},
     "output_type": "display_data"
    }
   ],
   "source": [
    "# Step 2\n",
    "colSums(is.na(un_df)) # Count NA values per column in the data frame\n",
    "un_df = na.omit(un_df) # removes all rows with NA values\n",
    "colSums(is.na(un_df)) # Recount number of NA values to be sure all have been removed "
   ]
  },
  {
   "cell_type": "code",
   "execution_count": 3,
   "metadata": {},
   "outputs": [],
   "source": [
    "# Step 3\n",
    "un_df$Last_Reporting_Date=as.Date(un_df$Last_Reporting_Date, format=\"%d/%m/%Y\") # Change column class from text to date"
   ]
  },
  {
   "cell_type": "code",
   "execution_count": 4,
   "metadata": {},
   "outputs": [
    {
     "data": {
      "text/html": [
       "<ol class=list-inline>\n",
       "\t<li>'Experts on Mission'</li>\n",
       "\t<li>'Formed Police Units'</li>\n",
       "\t<li>'Individual Police'</li>\n",
       "\t<li>'Staff Officer'</li>\n",
       "\t<li>'Troops'</li>\n",
       "</ol>\n"
      ],
      "text/latex": [
       "\\begin{enumerate*}\n",
       "\\item 'Experts on Mission'\n",
       "\\item 'Formed Police Units'\n",
       "\\item 'Individual Police'\n",
       "\\item 'Staff Officer'\n",
       "\\item 'Troops'\n",
       "\\end{enumerate*}\n"
      ],
      "text/markdown": [
       "1. 'Experts on Mission'\n",
       "2. 'Formed Police Units'\n",
       "3. 'Individual Police'\n",
       "4. 'Staff Officer'\n",
       "5. 'Troops'\n",
       "\n",
       "\n"
      ],
      "text/plain": [
       "[1] \"Experts on Mission\"  \"Formed Police Units\" \"Individual Police\"  \n",
       "[4] \"Staff Officer\"       \"Troops\"             "
      ]
     },
     "metadata": {},
     "output_type": "display_data"
    },
    {
     "name": "stdout",
     "output_type": "stream",
     "text": [
      "[1] 0.109292\n",
      "[1] \"Goal not yet accomplished\"\n"
     ]
    }
   ],
   "source": [
    "# Step 4\n",
    "un_df$Personnel_Type = as.factor(un_df$Personnel_Type) # Chage column class from text to categorical \n",
    "levels(un_df$Personnel_Type) # print various categories/levels of the categoriacal variable (uniquie values of column)\n",
    "\n",
    "# Subset for Personnel type of Formed Police Units and dates for the month of July 2020 and above \n",
    "un_df_FPU_07_2020 = un_df[un_df$Personnel_Type == 'Formed Police Units' & un_df$Last_Reporting_Date > as.Date(\"2020-06-30\", format = \"%Y-%m-%d\"), ]\n",
    "\n",
    "female_FPU = sum(un_df_FPU_07_2020$Female_Personnel) # sum of column \"Female_Personnel\" in the data frame\n",
    "male_FPU = sum(un_df_FPU_07_2020$Male_Personnel) # sum of column \"Male_Personnel\" in the data frame\n",
    "percent_female_FPU = female_FPU / (female_FPU + male_FPU) #proportion of females \n",
    "print(percent_female_FPU)\n",
    "\n",
    "# Checks if proportion of females is above or below 20% and prints based on this condition\n",
    "if (percent_female_FPU > 0.2) {\n",
    "    print(\"Goal accomplished\")\n",
    "} else {\n",
    "    print(\"Goal not yet accomplished\")\n",
    "}"
   ]
  },
  {
   "cell_type": "code",
   "execution_count": 5,
   "metadata": {},
   "outputs": [
    {
     "name": "stderr",
     "output_type": "stream",
     "text": [
      "Warning message:\n",
      "\"package 'ggplot2' was built under R version 3.6.3\""
     ]
    },
    {
     "data": {
      "image/png": "[encoded data removed]",
      "text/plain": [
       "plot without title"
      ]
     },
     "metadata": {},
     "output_type": "display_data"
    }
   ],
   "source": [
    "# Step 5\n",
    "library(ggplot2) #import ggplot2\n",
    "\n",
    "p_of_females = c(7, 8, 10.8, 20, round(percent_female_FPU*100, 2)) # creates vector representing y values of plot\n",
    "year = c(\"2017\",\"2018\", \"2019\",\"2028\",\"July\\n2020\") # creates vector representing x values of plot\n",
    "un_female_FPU_df = data.frame(p_of_females, year) # creates data frame used to make the plot\n",
    "\n",
    "# creates plot using the data frame\n",
    "women_FPU_plot = ggplot(data = un_female_FPU_df, aes(x = year, y = p_of_females)) + \n",
    "geom_bar(stat = \"identity\", fill = \"blue\", width = 0.7) +\n",
    "geom_text(aes(label = paste(as.character(p_of_females),\"%\", sep = \"\")), vjust = -0.5, size = 6, color = \"blue\") +\n",
    "labs(title = \"WOMEN SERVING IN FORMED POLICE UNITS\", x = \"Percentage of Women\", y = \"Year\") + \n",
    "theme_minimal()\n",
    "\n",
    "women_FPU_plot # display plot"
   ]
  },
  {
   "cell_type": "code",
   "execution_count": 6,
   "metadata": {},
   "outputs": [
    {
     "name": "stdout",
     "output_type": "stream",
     "text": [
      "Country: United States of America (the) \n",
      "ISO Code: USA \n",
      "Number of Unique Mission: 23\n",
      "\n",
      "All Unique Missions:\n",
      "[1] \"BINUH\"\n",
      "[1] \"MINUJUSTH\"\n",
      "[1] \"MINURCAT\"\n",
      "[1] \"MINUSCA\"\n",
      "[1] \"MINUSMA\"\n",
      "[1] \"MINUSTAH\"\n",
      "[1] \"MONUSCO\"\n",
      "[1] \"UNAMA\"\n",
      "[1] \"UNAMID\"\n",
      "[1] \"UNAMSIL\"\n",
      "[1] \"UNIKOM\"\n",
      "[1] \"UNIOSIL\"\n",
      "[1] \"UNMEE\"\n",
      "[1] \"UNMIBH\"\n",
      "[1] \"UNMIK\"\n",
      "[1] \"UNMIL\"\n",
      "[1] \"UNMIS\"\n",
      "[1] \"UNMISET\"\n",
      "[1] \"UNMISS\"\n",
      "[1] \"UNMIT\"\n",
      "[1] \"UNOTIL\"\n",
      "[1] \"UNSMIL\"\n",
      "[1] \"UNTSO\"\n",
      "\n",
      "--------------------------------\n",
      "\n",
      "Country: Korea (the Republic of) \n",
      "ISO Code: KOR \n",
      "Number of Unique Mission: 17\n",
      "\n",
      "All Unique Missions:\n",
      "[1] \"MINUJUSTH\"\n",
      "[1] \"MINURSO\"\n",
      "[1] \"MINUSTAH\"\n",
      "[1] \"UNAMA\"\n",
      "[1] \"UNAMID\"\n",
      "[1] \"UNFICYP\"\n",
      "[1] \"UNIFIL\"\n",
      "[1] \"UNISFA\"\n",
      "[1] \"UNMHA\"\n",
      "[1] \"UNMIL\"\n",
      "[1] \"UNMIN\"\n",
      "[1] \"UNMIS\"\n",
      "[1] \"UNMISET\"\n",
      "[1] \"UNMISS\"\n",
      "[1] \"UNMIT\"\n",
      "[1] \"UNMOGIP\"\n",
      "[1] \"UNOCI\"\n",
      "\n",
      "--------------------------------\n",
      "\n",
      "Country: India \n",
      "ISO Code: IND \n",
      "Number of Unique Mission: 26\n",
      "\n",
      "All Unique Missions:\n",
      "[1] \"MINUJUSTH\"\n",
      "[1] \"MINURSO\"\n",
      "[1] \"MINUSTAH\"\n",
      "[1] \"MONUC\"\n",
      "[1] \"MONUSCO\"\n",
      "[1] \"ONUB\"\n",
      "[1] \"UNAMA\"\n",
      "[1] \"UNAMI\"\n",
      "[1] \"UNAMSIL\"\n",
      "[1] \"UNDOF\"\n",
      "[1] \"UNFICYP\"\n",
      "[1] \"UNIFIL\"\n",
      "[1] \"UNIKOM\"\n",
      "[1] \"UNIOSIL\"\n",
      "[1] \"UNISFA\"\n",
      "[1] \"UNMEE\"\n",
      "[1] \"UNMIBH\"\n",
      "[1] \"UNMIK\"\n",
      "[1] \"UNMIL\"\n",
      "[1] \"UNMIS\"\n",
      "[1] \"UNMISS\"\n",
      "[1] \"UNMIT\"\n",
      "[1] \"UNOCI\"\n",
      "[1] \"UNOMIG\"\n",
      "[1] \"UNSOM\"\n",
      "[1] \"UNTSO\"\n",
      "\n",
      "--------------------------------\n",
      "\n",
      "Country: Germany \n",
      "ISO Code: DEU \n",
      "Number of Unique Mission: 18\n",
      "\n",
      "All Unique Missions:\n",
      "[1] \"MINUJUSTH\"\n",
      "[1] \"MINURSO\"\n",
      "[1] \"MINUSMA\"\n",
      "[1] \"MINUSTAH\"\n",
      "[1] \"UNAMA\"\n",
      "[1] \"UNAMID\"\n",
      "[1] \"UNAMSIL\"\n",
      "[1] \"UNIFIL\"\n",
      "[1] \"UNIKOM\"\n",
      "[1] \"UNMHA\"\n",
      "[1] \"UNMIBH\"\n",
      "[1] \"UNMIK\"\n",
      "[1] \"UNMIL\"\n",
      "[1] \"UNMIS\"\n",
      "[1] \"UNMISS\"\n",
      "[1] \"UNOMIG\"\n",
      "[1] \"UNSMIL\"\n",
      "[1] \"UNSOM\"\n",
      "\n",
      "--------------------------------\n",
      "\n",
      "Country: Argentina \n",
      "ISO Code: ARG \n",
      "Number of Unique Mission: 19\n",
      "\n",
      "All Unique Missions:\n",
      "[1] \"MINUJUSTH\"\n",
      "[1] \"MINURSO\"\n",
      "[1] \"MINUSCA\"\n",
      "[1] \"MINUSTAH\"\n",
      "[1] \"MONUC\"\n",
      "[1] \"UNAMI\"\n",
      "[1] \"UNFICYP\"\n",
      "[1] \"UNIKOM\"\n",
      "[1] \"UNIMOG\"\n",
      "[1] \"UNMC\"\n",
      "[1] \"UNMIBH\"\n",
      "[1] \"UNMIK\"\n",
      "[1] \"UNMIL\"\n",
      "[1] \"UNMIS\"\n",
      "[1] \"UNMISET\"\n",
      "[1] \"UNMISS\"\n",
      "[1] \"UNOCI\"\n",
      "[1] \"UNTSO\"\n",
      "[1] \"UNVMC\"\n",
      "\n",
      "--------------------------------\n",
      "\n",
      "Country: United Kingdom of Great Britain and Northern Ireland (the) \n",
      "ISO Code: GBR \n",
      "Number of Unique Mission: 24\n",
      "\n",
      "All Unique Missions:\n",
      "[1] \"MINUSMA\"\n",
      "[1] \"MINUSTAH\"\n",
      "[1] \"MONUC\"\n",
      "[1] \"MONUSCO\"\n",
      "[1] \"UNAMA\"\n",
      "[1] \"UNAMI\"\n",
      "[1] \"UNAMID\"\n",
      "[1] \"UNAMSIL\"\n",
      "[1] \"UNFICYP\"\n",
      "[1] \"UNIKOM\"\n",
      "[1] \"UNIOSIL\"\n",
      "[1] \"UNISFA\"\n",
      "[1] \"UNMC\"\n",
      "[1] \"UNMEE\"\n",
      "[1] \"UNMIBH\"\n",
      "[1] \"UNMIK\"\n",
      "[1] \"UNMIL\"\n",
      "[1] \"UNMIS\"\n",
      "[1] \"UNMISET\"\n",
      "[1] \"UNMISS\"\n",
      "[1] \"UNSMIL\"\n",
      "[1] \"UNSOM\"\n",
      "[1] \"UNSOS\"\n",
      "[1] \"UNVMC\"\n",
      "\n",
      "--------------------------------\n",
      "\n"
     ]
    }
   ],
   "source": [
    "# Step 6\n",
    "un_df$Mission_Acronym = gsub(pattern = \" \", replacement = \"\", x = un_df$Mission_Acronym) # removes trailling white space\n",
    "\n",
    "# Function that takes ISO Code of a country \n",
    "# and displays number of missions that country \n",
    "# has gone on and each mission's name\n",
    "missions_per_country = function(iso) {\n",
    "    \n",
    "    # subset the data frame for rows with the ISO Code inputted and three columns: ISO code, Country and Mission\n",
    "    df_iso = un_df[un_df$ISOCode3 == iso, c(\"ISOCode3\", \"Contributing_Country\", \"Mission_Acronym\")]\n",
    "    \n",
    "    df_iso$Mission_Acronym = as.factor(df_iso$Mission_Acronym) # convert text column to a factor column\n",
    "    unique_missions = levels(df_iso$Mission_Acronym) # retrive factors (unique values) for column\n",
    "    num_unquie_missions = length(unique_missions) # retrive number of unique values for column\n",
    "    country = as.character(df_iso[1, \"Contributing_Country\"]) # Retrive country name \n",
    "    \n",
    "    #print country name, iso code and number of unique missions\n",
    "    cat(paste(\"Country:\", country, \"\\nISO Code:\", iso, \"\\nNumber of Unique Mission:\", num_unquie_missions))\n",
    "    cat(\"\\n\\nAll Unique Missions:\\n\")\n",
    "    # print all missions from vector of unique missions\n",
    "    for (mission in unique_missions){\n",
    "        print(mission)\n",
    "    }\n",
    "    cat(\"\\n--------------------------------\\n\\n\")\n",
    "}\n",
    "\n",
    "Minerva_Rotation_Cities = c(\"USA\", \"KOR\", \"IND\", \"DEU\", \"ARG\", \"GBR\") # vector of Minerva city ISO Codes\n",
    "\n",
    "# Apply the function missions_per_country() to all items in Minerva_Rotation_Cities\n",
    "for (city in Minerva_Rotation_Cities) {\n",
    "    missions_per_country(city)\n",
    "}"
   ]
  },
  {
   "cell_type": "code",
   "execution_count": 7,
   "metadata": {},
   "outputs": [
    {
     "data": {
      "text/plain": [
       " Total Number of Personnel\n",
       " Min.   :   1             \n",
       " 1st Qu.:   2             \n",
       " Median :   8             \n",
       " Mean   : 114             \n",
       " 3rd Qu.:  52             \n",
       " Max.   :1726             "
      ]
     },
     "metadata": {},
     "output_type": "display_data"
    }
   ],
   "source": [
    "# Step 7\n",
    "# new column created from the sum of two existing columns\n",
    "un_df$Total_Number_of_Personnel = un_df$Female_Personnel + un_df$Male_Personnel \n",
    "un_df$DATE = un_df$Last_Reporting_Date # new column which is a copy of an existing one\n",
    "\n",
    "# subset data frame for mission MINUSMA and columns DATE and Total_Number _of _Personnel\n",
    "un_df_MINUSMA = un_df[un_df$Mission_Acronym == \"MINUSMA\", c(\"DATE\", \"Total_Number_of_Personnel\")]\n",
    "colnames(un_df_MINUSMA) = c(\"DATE\", \"Total Number of Personnel\") # renames columns of the data frame\n",
    "\n",
    "summary(un_df_MINUSMA[, \"Total Number of Personnel\"]) # summary statistics of the data frame"
   ]
  },
  {
   "cell_type": "code",
   "execution_count": null,
   "metadata": {},
   "outputs": [],
   "source": []
  }
 ],
 "metadata": {
  "kernelspec": {
   "display_name": "R",
   "language": "R",
   "name": "ir"
  },
  "language_info": {
   "codemirror_mode": "r",
   "file_extension": ".r",
   "mimetype": "text/x-r-source",
   "name": "R",
   "pygments_lexer": "r",
   "version": "3.6.1"
  }
 },
 "nbformat": 4,
 "nbformat_minor": 2
}
